{
  "cells": [
    {
      "cell_type": "markdown",
      "metadata": {},
      "source": [
        "# Unix on Local Machine — Lab 02\n",
        "\n",
        "\n"
      ]
    },
    {
      "cell_type": "markdown",
      "metadata": {},
      "source": [
        "## Preliminary steps\n",
        "\n",
        "1) Open your terminal\n",
        "2) Go to a directory of your liking where you would like to download all the homeworks\n",
        "3) Clone repository https://github.com/Muxas/fse4ai_2025\n",
        "4) Go to directory fse4ai_2025\n",
        "5) Launch test environment: docker compose run --rm fse4ai_02\n"
      ]
    },
    {
      "cell_type": "markdown",
      "metadata": {},
      "source": [
        "## 1) sed: uppercase → lowercase in testfile_sed.txt\n",
        "\n",
        "Use sed to replace all uppercase characters of the text with lowercase characters in testfile_sed.txt\n"
      ]
    },
    {
      "cell_type": "markdown",
      "metadata": {},
      "source": [
        "## 2) sed: replace 2nd occurrence per line\n",
        "\n",
        "Use sed to replace the word 'danger' on 2nd occurrence of every line from the whole file testfile_sed.txt\n"
      ]
    },
    {
      "cell_type": "markdown",
      "metadata": {},
      "source": [
        "## 3) sed: add a new line after each 'danger' match\n",
        "\n",
        "Use sed to add a new line \"This is new line with text after match\" after every 'danger' pattern match in testfile_sed.txt\n"
      ]
    },
    {
      "cell_type": "markdown",
      "metadata": {},
      "source": [
        "## 4) sed: chain multiple replacements\n",
        "\n",
        "Chain sed commands with multiple -e flags. Change each occurrence of 'danger' to 'safety' and 'hate' to 'love' in testfile_sed.txt\n"
      ]
    },
    {
      "cell_type": "markdown",
      "metadata": {},
      "source": [
        "## 5) sed: replace all digits with %\n",
        "\n",
        "Use sed to replace all numeric sequences in the file with the '%' symbol\n"
      ]
    },
    {
      "cell_type": "markdown",
      "metadata": {},
      "source": [
        "## 6) sed: switch name pairs in a TSV\n",
        "\n",
        "Switch pairs of names (First name, Last name) in the second column of a tab-separated file while preserving other columns. Use file names_sed.txt\n"
      ]
    },
    {
      "cell_type": "markdown",
      "metadata": {},
      "source": [
        "## 7) find: locate file by permissions\n",
        "\n",
        "In the current directory create two files with permissions rwxrwxr-x and r--r--r--. Then using find search for the rwxrwxr-x file.\n"
      ]
    },
    {
      "cell_type": "markdown",
      "metadata": {},
      "source": [
        "## 8) Create files and remove selected ones with find/regex\n",
        "\n",
        "Create multiple files in directories 'foo' and 'bar' named 0.txt...9.txt. Then find selected files in both directories and remove them (per PDF).\n"
      ]
    },
    {
      "cell_type": "markdown",
      "metadata": {},
      "source": [
        "## 9) find: accessed within last hour\n",
        "\n",
        "Find all the files in the current directory that were accessed in the last 1 hour.\n"
      ]
    },
    {
      "cell_type": "markdown",
      "metadata": {},
      "source": [
        "## 10) find: size range across filesystem\n",
        "\n",
        "Find all the files in the entire file system, which are greater than 1MB and less than 4MB.\n"
      ]
    },
    {
      "cell_type": "markdown",
      "metadata": {},
      "source": [
        "## 11) shell: capture nr_files from /etc/passwd\n",
        "\n",
        "Create a local variable nr_files and assign the number of lines found in /etc/passwd, containing only the number.\n"
      ]
    }
  ],
  "metadata": {
    "kernelspec": {
      "display_name": "Python 3",
      "language": "python",
      "name": "python3"
    },
    "language_info": {
      "name": "python",
      "version": "3.x"
    }
  },
  "nbformat": 4,
  "nbformat_minor": 5
}
