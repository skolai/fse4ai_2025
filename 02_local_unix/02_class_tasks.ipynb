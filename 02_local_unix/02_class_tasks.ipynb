{
 "cells": [
  {
   "cell_type": "markdown",
   "id": "a499984f",
   "metadata": {},
   "source": [
    "# Unix Class Tasks — Set 02 "
   ]
  },
  {
   "cell_type": "markdown",
   "id": "e1ce82d2",
   "metadata": {},
   "source": [
    "### 1) Lowercase entire file with sed\n",
    "Using `sed`, convert all characters of `sample_sed.txt` to lowercase and print to stdout."
   ]
  },
  {
   "cell_type": "code",
   "execution_count": null,
   "id": "88b8570a",
   "metadata": {},
   "outputs": [],
   "source": [
    "%%bash"
   ]
  },
  {
   "cell_type": "markdown",
   "id": "e4863072",
   "metadata": {},
   "source": [
    "### 2) Replace only 3rd occurrence per line\n",
    "In `events.txt`, replace the **third** occurrence of the word `error` with `notice` on each line."
   ]
  },
  {
   "cell_type": "code",
   "execution_count": null,
   "id": "442cec5b",
   "metadata": {},
   "outputs": [],
   "source": [
    "%%bash"
   ]
  },
  {
   "cell_type": "markdown",
   "id": "2f88f630",
   "metadata": {},
   "source": [
    "### 3) Insert a line after every TODO\n",
    "In `notes.txt`, after every line containing `TODO`, insert a new line that says `-- follow up next class --`."
   ]
  },
  {
   "cell_type": "code",
   "execution_count": null,
   "id": "da73c080",
   "metadata": {},
   "outputs": [],
   "source": [
    "%%bash"
   ]
  },
  {
   "cell_type": "markdown",
   "id": "ac9df9d0",
   "metadata": {},
   "source": [
    "### 4) Chain multiple substitutions\n",
    "With one `sed` call on `text_multi.txt`, change all `foo` to `bar` **and** all `yes` to `no`."
   ]
  },
  {
   "cell_type": "code",
   "execution_count": null,
   "id": "85f31ae3",
   "metadata": {},
   "outputs": [],
   "source": [
    "%%bash"
   ]
  },
  {
   "cell_type": "markdown",
   "id": "c33c0e4c",
   "metadata": {},
   "source": [
    "### 5) Replace all digits with `*`\n",
    "In `mixed.txt`, replace **every digit** with `*`."
   ]
  },
  {
   "cell_type": "code",
   "execution_count": null,
   "id": "0fa7d9fb",
   "metadata": {},
   "outputs": [],
   "source": [
    "%%bash"
   ]
  },
  {
   "cell_type": "markdown",
   "id": "189542db",
   "metadata": {},
   "source": [
    "### 6) Swap first and last name in a TSV column\n",
    "Given a tab‑separated file `names.tsv` where the **second** column is `First<TAB>Last`, rewrite it so that column 2 becomes `Last, First` (keep other columns intact)."
   ]
  },
  {
   "cell_type": "code",
   "execution_count": null,
   "id": "e3db161c",
   "metadata": {},
   "outputs": [],
   "source": [
    "%%bash"
   ]
  },
  {
   "cell_type": "markdown",
   "id": "14c6c99e",
   "metadata": {},
   "source": [
    "### 7) Create files with specific permissions and find them\n",
    "Create two files and set their permissions to `640` and `444`. Then, using `find`, list only the file with mode `640` in the current directory."
   ]
  },
  {
   "cell_type": "code",
   "execution_count": null,
   "id": "427cbaab",
   "metadata": {},
   "outputs": [],
   "source": [
    "%%bash"
   ]
  },
  {
   "cell_type": "markdown",
   "id": "51d54871",
   "metadata": {},
   "source": [
    "### 8) Create trees and delete even‑numbered files\n",
    "Create directories `alpha` and `beta` and files `0.txt`..`9.txt` inside each. Then delete only the **even‑numbered** files in both directories using one `find` command and a regex."
   ]
  },
  {
   "cell_type": "code",
   "execution_count": null,
   "id": "70b2d569",
   "metadata": {},
   "outputs": [],
   "source": [
    "%%bash"
   ]
  },
  {
   "cell_type": "markdown",
   "id": "e956e134",
   "metadata": {},
   "source": [
    "### 9) Files accessed in the last 30 minutes\n",
    "List files in the current directory tree that were **accessed** within the last 30 minutes."
   ]
  },
  {
   "cell_type": "code",
   "execution_count": null,
   "id": "72a83102",
   "metadata": {},
   "outputs": [],
   "source": [
    "%%bash"
   ]
  },
  {
   "cell_type": "markdown",
   "id": "9c6e4fe1",
   "metadata": {},
   "source": [
    "### 10) Find files between 100 KB and 500 KB\n",
    "Under the current directory, find regular files larger than 100 KB and smaller than 500 KB."
   ]
  },
  {
   "cell_type": "code",
   "execution_count": null,
   "id": "ba83b94c",
   "metadata": {},
   "outputs": [],
   "source": [
    "%%bash"
   ]
  },
  {
   "cell_type": "markdown",
   "id": "e75a82e5",
   "metadata": {},
   "source": [
    "### 11) Count lines of /etc/passwd into a variable\n",
    "Create a **local variable** `num_users` and assign the number of lines in `/etc/passwd` (only the number). Print the variable."
   ]
  },
  {
   "cell_type": "code",
   "execution_count": null,
   "id": "468995b3",
   "metadata": {},
   "outputs": [],
   "source": [
    "%%bash"
   ]
  },
  {
   "cell_type": "markdown",
   "id": "67faf158",
   "metadata": {},
   "source": [
    "### 12) Depth‑limited search for .log files\n",
    "Find `*.log` files but only up to depth 2 (current directory and its immediate subdirectories)."
   ]
  },
  {
   "cell_type": "code",
   "execution_count": null,
   "id": "c0c6c5cb",
   "metadata": {},
   "outputs": [],
   "source": [
    "%%bash"
   ]
  },
  {
   "cell_type": "markdown",
   "id": "7b1f779c",
   "metadata": {},
   "source": [
    "### 13) Prefix each line with its line number (sed)\n",
    "Using `sed`, print `report.txt` with line numbers in the form `001: <line>`."
   ]
  },
  {
   "cell_type": "code",
   "execution_count": null,
   "id": "0b363d59",
   "metadata": {},
   "outputs": [],
   "source": [
    "%%bash"
   ]
  }
 ],
 "metadata": {
  "language_info": {
   "name": "python"
  }
 },
 "nbformat": 4,
 "nbformat_minor": 5
}
