{
 "cells": [
  {
   "cell_type": "markdown",
   "id": "627df470",
   "metadata": {},
   "source": [
    "# Unix Class Tasks — Set 03 "
   ]
  },
  {
   "cell_type": "markdown",
   "id": "9c2e8fe4",
   "metadata": {},
   "source": [
    "### 1) Generate a new SSH key and change its passphrase\n",
    "Create an **ed25519** SSH key named `id_remote_ed25519` (with a comment `class03`) and then change its passphrase.\n",
    "- Hint: `ssh-keygen -t ed25519 -C 'class03' -f id_remote_ed25519`\n",
    "- Then: change the passphrase for this key."
   ]
  },
  {
   "cell_type": "code",
   "execution_count": null,
   "id": "a4101ed8",
   "metadata": {},
   "outputs": [],
   "source": [
    "%%bash"
   ]
  },
  {
   "cell_type": "markdown",
   "id": "bbd5a1c2",
   "metadata": {},
   "source": [
    "### 2) Add key to ssh-agent and create a Host alias\n",
    "Start `ssh-agent`, add your new key, and create a minimal `~/.ssh/config` entry for an alias **uni04**\n",
    "that points to host `fse4ai_04_server` with user `student` and uses your `id_remote_ed25519` key.\n",
    "After creating the alias, test it with a dry connection (e.g., `ssh -o BatchMode=yes -F ~/.ssh/config uni04 true`)."
   ]
  },
  {
   "cell_type": "code",
   "execution_count": null,
   "id": "b19ee0f5",
   "metadata": {},
   "outputs": [],
   "source": [
    "%%bash"
   ]
  },
  {
   "cell_type": "markdown",
   "id": "1e622312",
   "metadata": {},
   "source": [
    "### 3) Copy public key to the server (dry run + real)\n",
    "Do a **dry-run** of copying your public key to the remote server using the alias from task 2, then perform the real copy.\n",
    "- Dry-run: `ssh-copy-id -n -i id_remote_ed25519.pub uni04`\n",
    "- Real: `ssh-copy-id -i id_remote_ed25519.pub uni04`"
   ]
  },
  {
   "cell_type": "code",
   "execution_count": null,
   "id": "85fe4075",
   "metadata": {},
   "outputs": [],
   "source": [
    "%%bash"
   ]
  },
  {
   "cell_type": "markdown",
   "id": "b757088e",
   "metadata": {},
   "source": [
    "### 4) Run a long job remotely with nohup (two ways)\n",
    "Launch `sleep 12; echo done` on the remote in the background with `nohup`, capturing stdout to `std.out` and stderr to `std.err`, then disconnect.\n",
    "a) Connect first, run commands, then `exit`.\n",
    "b) Do it in a **single** one‑liner using `ssh -f`."
   ]
  },
  {
   "cell_type": "code",
   "execution_count": null,
   "id": "0e2ce400",
   "metadata": {},
   "outputs": [],
   "source": [
    "%%bash"
   ]
  },
  {
   "cell_type": "markdown",
   "id": "076ea4f7",
   "metadata": {},
   "source": [
    "### 5) Redirect streams and mirror them to files\n",
    "From the **client** container, redirect the output of `ls -lh` so that stdout goes to stderr, and then use `tee` to both display and save outputs:\n",
    "1) Send stdout to stderr.\n",
    "2) Save stdout to `std.out` and stderr to `std.err` while still showing stdout live.\n",
    "3) Use **process substitution** so both streams are displayed and saved into their files."
   ]
  },
  {
   "cell_type": "code",
   "execution_count": null,
   "id": "e9dd82c5",
   "metadata": {},
   "outputs": [],
   "source": [
    "%%bash"
   ]
  },
  {
   "cell_type": "markdown",
   "id": "95a4631a",
   "metadata": {},
   "source": [
    "### 6) rsync with size window and excludes (from remote logs/)\n",
    "From the **client**, copy files from remote `~/logs` to local `logs_local/` **only** if they are between 2KB and 2MB.\n",
    "Exclude files whose names contain `tmp` and show progress."
   ]
  },
  {
   "cell_type": "code",
   "execution_count": null,
   "id": "fc2d6a70",
   "metadata": {},
   "outputs": [],
   "source": [
    "%%bash"
   ]
  },
  {
   "cell_type": "markdown",
   "id": "e2337264",
   "metadata": {},
   "source": [
    "### 7) Mirror a directory (deletes local extras)\n",
    "Make a **mirror** of remote `~/logs/` into local `logs_mirror/` so that files deleted on remote are also deleted locally.\n",
    "Show itemized changes."
   ]
  },
  {
   "cell_type": "code",
   "execution_count": null,
   "id": "03408750",
   "metadata": {},
   "outputs": [],
   "source": [
    "%%bash"
   ]
  },
  {
   "cell_type": "markdown",
   "id": "6154bd0b",
   "metadata": {},
   "source": [
    "### 8) Copy a single file using scp with explicit options\n",
    "Copy `~/logs/server.log` from the remote to the current directory using `scp`.\n",
    "Use `-o IdentitiesOnly=yes` to force your key and `-o StrictHostKeyChecking=accept-new` on first connect."
   ]
  },
  {
   "cell_type": "code",
   "execution_count": null,
   "id": "c28c77d5",
   "metadata": {},
   "outputs": [],
   "source": [
    "%%bash"
   ]
  }
 ],
 "metadata": {
  "language_info": {
   "name": "python"
  }
 },
 "nbformat": 4,
 "nbformat_minor": 5
}
