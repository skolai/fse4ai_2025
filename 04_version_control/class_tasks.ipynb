{
 "cells": [
  {
   "cell_type": "markdown",
   "id": "e897aa4f",
   "metadata": {},
   "source": [
    "# Git Practice Problems\n"
   ]
  },
  {
   "cell_type": "markdown",
   "id": "33c83fdc",
   "metadata": {},
   "source": [
    "### 1) You have a new project folder. How do you initialize it as a Git repository?"
   ]
  },
  {
   "cell_type": "markdown",
   "id": "2a11e4be",
   "metadata": {},
   "source": [
    "### 2) How do you check the current status of your repository to see which files are tracked, untracked, or modified?\n"
   ]
  },
  {
   "cell_type": "markdown",
   "id": "a5366279",
   "metadata": {},
   "source": [
    "### 3) Create a new file named README.md. How do you add this single file to the staging area?\n"
   ]
  },
  {
   "cell_type": "markdown",
   "id": "30f6c1a5",
   "metadata": {},
   "source": [
    "### 4) You've staged the README.md file. How do you commit it to the repository's history with the message \"Add README file\"?\n"
   ]
  },
  {
   "cell_type": "markdown",
   "id": "2b2d8a98",
   "metadata": {},
   "source": [
    "### 5) Create a new file called index.html. How do you view the changes you've made since your last commit? (You should see index.html as a new, untracked file).\n"
   ]
  },
  {
   "cell_type": "markdown",
   "id": "6b0f1aed",
   "metadata": {},
   "source": [
    "### 6) How do you add all new and modified files in your project to the staging area at once?\n"
   ]
  },
  {
   "cell_type": "markdown",
   "id": "648ba5f3",
   "metadata": {},
   "source": [
    "### 7) Now that index.html is staged, commit it with the message \"Add index page\".\n"
   ]
  },
  {
   "cell_type": "markdown",
   "id": "e4cb9150",
   "metadata": {},
   "source": [
    "### 8) You want to review the history of all the commits you've made so far. What command do you use?\n"
   ]
  },
  {
   "cell_type": "markdown",
   "id": "5c3ff2ea",
   "metadata": {},
   "source": [
    "### 9) Create a new branch called new-feature to work on something new without affecting the main codebase.\n"
   ]
  },
  {
   "cell_type": "markdown",
   "id": "b35be5bd",
   "metadata": {},
   "source": [
    "### 10) How do you switch from your current branch to the new-feature branch?\n"
   ]
  },
  {
   "cell_type": "markdown",
   "id": "89af08b2",
   "metadata": {},
   "source": [
    "### 11) While on the new-feature branch, create a file named feature.txt. Stage and commit it with the message \"Implement new feature\".\n"
   ]
  },
  {
   "cell_type": "markdown",
   "id": "74f0e0be",
   "metadata": {},
   "source": [
    "### 12) You've finished your work on the new-feature branch. First, switch back to your original branch (it's likely named main or master).\n"
   ]
  },
  {
   "cell_type": "markdown",
   "id": "2346ebd4",
   "metadata": {},
   "source": [
    "### 13) Now that you are back on the main branch, how do you merge the changes from the new-feature branch into it?\n"
   ]
  },
  {
   "cell_type": "markdown",
   "id": "e02f7003",
   "metadata": {},
   "source": [
    "### 14) You've made some commits on your main branch locally. How do you push these changes to the remote repository you just added (aliased as origin)?\n"
   ]
  },
  {
   "cell_type": "markdown",
   "id": "eb798493",
   "metadata": {},
   "source": [
    "### 15) The new-feature branch has been successfully merged into main and is no longer needed. How do you delete this branch from your local repository?\n"
   ]
  }
 ],
 "metadata": {
  "kernelspec": {
   "display_name": "Python 3",
   "language": "python",
   "name": "python3"
  },
  "language_info": {
   "codemirror_mode": {
    "name": "ipython",
    "version": 3
   },
   "file_extension": ".py",
   "mimetype": "text/x-python",
   "name": "python",
   "nbconvert_exporter": "python",
   "pygments_lexer": "ipython3",
   "version": "3.9.6"
  }
 },
 "nbformat": 4,
 "nbformat_minor": 5
}
