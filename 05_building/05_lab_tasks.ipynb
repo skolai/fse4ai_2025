{
 "cells": [
  {
   "cell_type": "markdown",
   "id": "a921dac7",
   "metadata": {},
   "source": [
    "# Building Software 5 — Homework tasks\n",
    "\n",
    "## Preliminary steps\n",
    "1. Open your terminal  \n",
    "2. Go to a directory of your liking where you would like to download all the homeworks  \n",
    "3. Clone repository `https://github.com/Muxas/fse4ai_2025`  \n",
    "4. Go to directory `fse4ai_2024`  \n",
    "5. Launch test environment  \n",
    "   ```bash\n",
    "   docker compose run fse4ai_05\n",
    "   ```\n",
    "\n",
    "\n",
    "Repository reference: `https://github.com/Muxas/fse4ai_2025`\n"
   ]
  },
  {
   "cell_type": "markdown",
   "id": "516d92ae",
   "metadata": {},
   "source": [
    "## Homeworks\n",
    "### Task 1\n",
    "Go to a directory `task_1` and write a compilation shell script to compile `star_pattern.c` using GCC.\n"
   ]
  },
  {
   "cell_type": "code",
   "execution_count": null,
   "id": "6cca5f58",
   "metadata": {},
   "outputs": [],
   "source": [
    "%%bash"
   ]
  },
  {
   "cell_type": "markdown",
   "id": "71106d95",
   "metadata": {},
   "source": [
    "### Task 2\n",
    "For the previous task, use shell variables to represent input filename, output filename, compiler name, and compilation options, and write a more advanced compilation shell script using these variables.\n"
   ]
  },
  {
   "cell_type": "code",
   "execution_count": null,
   "id": "ca449ffa",
   "metadata": {},
   "outputs": [],
   "source": [
    "%%bash"
   ]
  },
  {
   "cell_type": "markdown",
   "id": "14d8f09e",
   "metadata": {},
   "source": [
    "### Task 3\n",
    "Go into a directory `task_3` and write a shell script to compile `voronoi_1.cpp` into a binary `voronoi_1` using G++ and dynamic linking. This program uses external dependencies which must be installed first (`libcgal`, `libgmp`). Use the provided script `install_cgal-4.14.1.sh` to install CGAL. Use the `-std=c++11` option."
   ]
  },
  {
   "cell_type": "code",
   "execution_count": null,
   "id": "22b6d8e4",
   "metadata": {},
   "outputs": [],
   "source": [
    "%%bash"
   ]
  },
  {
   "cell_type": "markdown",
   "id": "dd7475d4",
   "metadata": {},
   "source": [
    "### Task 4\n",
    "Provide a one-liner command to run the compiled binary executable `voronoi_1` (mind the need to export the directory with CGAL shared library)."
   ]
  },
  {
   "cell_type": "code",
   "execution_count": null,
   "id": "cf84f6a3",
   "metadata": {},
   "outputs": [],
   "source": [
    "%%bash"
   ]
  },
  {
   "cell_type": "markdown",
   "id": "744defe1",
   "metadata": {},
   "source": [
    "### Task 5\n",
    "Go into `task_5` directory and write a compilation script (with shell variables) to compile the project `Graph-Executor` using G++. The target executable is `test`, all other files compile to non-executable objects.\n",
    "\n",
    "Use these options (search the GCC docs to find the correct flag):\n",
    "- a. Enable all warnings about questionable constructions\n",
    "- b. Enable extra warning flags\n",
    "- c. Compile for c++14 language standard\n",
    "- d. Generate debug information\n",
    "- e. When linking `test`, additionally use `-pthread`"
   ]
  },
  {
   "cell_type": "code",
   "execution_count": null,
   "id": "c65fb2dd",
   "metadata": {},
   "outputs": [],
   "source": [
    "%%bash"
   ]
  },
  {
   "cell_type": "markdown",
   "id": "e165ffa9",
   "metadata": {},
   "source": [
    "### Task 6\n",
    "Go into `task_6` directory and write a `Makefile` to compile `star_pattern.c` using GCC. Provide an `all` target to build the program and a `clean` target to remove the built binary."
   ]
  },
  {
   "cell_type": "code",
   "execution_count": null,
   "id": "5bc6668c",
   "metadata": {},
   "outputs": [],
   "source": [
    "%%bash"
   ]
  },
  {
   "cell_type": "markdown",
   "id": "336f5ed7",
   "metadata": {},
   "source": [
    "### Task 7\n",
    "For the same task, write a `Makefile` with variables to represent compiler name and compilation flags and wildcards to represent input/output filenames."
   ]
  },
  {
   "cell_type": "code",
   "execution_count": null,
   "id": "8ed7a671",
   "metadata": {},
   "outputs": [],
   "source": [
    "%%bash"
   ]
  },
  {
   "cell_type": "markdown",
   "id": "2f9b8561",
   "metadata": {},
   "source": [
    "### Task 8\n",
    "Write a `Makefile` (with shell variables, wildcards) to compile the project `Graph-Executor` (`task_8` directory) using G++. The target executable is `test`, all other files compile to non-executable objects.\n",
    "\n",
    "Use the same compilation options as previously."
   ]
  },
  {
   "cell_type": "code",
   "execution_count": null,
   "id": "cd9b5d83",
   "metadata": {},
   "outputs": [],
   "source": [
    "%%bash"
   ]
  }
 ],
 "metadata": {
  "kernelspec": {
   "display_name": "Python 3",
   "language": "python",
   "name": "python3"
  },
  "language_info": {
   "codemirror_mode": {
    "name": "ipython",
    "version": 3
   },
   "file_extension": ".py",
   "mimetype": "text/x-python",
   "name": "python",
   "nbconvert_exporter": "python",
   "pygments_lexer": "ipython3",
   "version": "3.9.6"
  }
 },
 "nbformat": 4,
 "nbformat_minor": 5
}
