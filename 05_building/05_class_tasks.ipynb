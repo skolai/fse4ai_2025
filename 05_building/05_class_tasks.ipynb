{
 "cells": [
  {
   "cell_type": "markdown",
   "id": "7cc62b3c",
   "metadata": {},
   "source": [
    "# Class Task 05 — Exercises\n",
    "\n",
    "\n",
    "## Setup steps\n",
    "1. Open a terminal.\n",
    "2. Change to a working directory where you'll keep the assignments.\n",
    "3. Clone the course repository `https://github.com/Muxas/fse4ai_2025`.\n",
    "4. Enter the `fse4ai_2024` directory.\n",
    "5. Start the testing environment:\n",
    "   ```bash\n",
    "   docker compose run fse4ai_05\n",
    "   ```\n",
    "\n",
    "## Tasks (class versions)\n",
    "\n",
    "\n"
   ]
  },
  {
   "cell_type": "markdown",
   "id": "9b438c65",
   "metadata": {},
   "source": [
    "### Problem A\n",
    "Inside a folder named `class_task_1`, create a shell wrapper named `build_star.sh` that compiles `star_pattern.c` into an executable called `star_pattern`. Use `gcc`."
   ]
  },
  {
   "cell_type": "code",
   "execution_count": null,
   "id": "7140ae25",
   "metadata": {},
   "outputs": [],
   "source": [
    "%%bash"
   ]
  },
  {
   "cell_type": "markdown",
   "id": "07a3d467",
   "metadata": {},
   "source": [
    "### Problem B\n",
    "Improve the wrapper from Problem A: write a script `build_star_vars.sh` which uses variables for the source filename, target executable name, compiler binary, and flags (e.g., optimization/warnings). The script should abort on compilation failure."
   ]
  },
  {
   "cell_type": "code",
   "execution_count": null,
   "id": "fcb5819a",
   "metadata": {},
   "outputs": [],
   "source": [
    "%%bash"
   ]
  },
  {
   "cell_type": "markdown",
   "id": "d6e8ba1b",
   "metadata": {},
   "source": [
    "### Problem C\n",
    "In `class_task_3`, prepare a script `build_voronoi.sh` that compiles `voronoi_1.cpp` into an executable `voronoi_1` using `g++` with C++11. This project requires CGAL and GMP — use the provided installer script `install_cgal-4.14.1.sh` before compiling (if necessary)."
   ]
  },
  {
   "cell_type": "code",
   "execution_count": null,
   "id": "f5ff6a93",
   "metadata": {},
   "outputs": [],
   "source": [
    "%%bash"
   ]
  },
  {
   "cell_type": "markdown",
   "id": "a0a97803",
   "metadata": {},
   "source": [
    "### Problem D\n",
    "Provide a single-line command that runs `voronoi_1` while ensuring the dynamic linker can find any CGAL shared libraries installed in a local `local/lib` directory."
   ]
  },
  {
   "cell_type": "code",
   "execution_count": null,
   "id": "7beffda9",
   "metadata": {},
   "outputs": [],
   "source": [
    "%%bash"
   ]
  },
  {
   "cell_type": "markdown",
   "id": "3303cd62",
   "metadata": {},
   "source": [
    "\n",
    "### Problem E\n",
    "In `class_task_5`, create `build_graph_executor.sh` which compiles all `.cpp` files into `.o` object files and links them into an executable named `test`. Use flags to:\n",
    "- Enable common warnings and extra warnings,\n",
    "- Compile with C++14 standard,\n",
    "- Produce debug symbols,\n",
    "- Link the final binary with `-pthread`.\n"
   ]
  },
  {
   "cell_type": "code",
   "execution_count": null,
   "id": "fded4bdd",
   "metadata": {},
   "outputs": [],
   "source": [
    "%%bash"
   ]
  },
  {
   "cell_type": "markdown",
   "id": "db5e9907",
   "metadata": {},
   "source": [
    "### Problem F\n",
    "In `class_task_6`, write a `Makefile` that builds `star_pattern` from `star_pattern.c`. Include `all` and `clean` targets.\n"
   ]
  },
  {
   "cell_type": "code",
   "execution_count": null,
   "id": "35d58ca1",
   "metadata": {},
   "outputs": [],
   "source": [
    "%%bash"
   ]
  },
  {
   "cell_type": "markdown",
   "id": "4facf140",
   "metadata": {},
   "source": [
    "### Problem G\n",
    "In `class_task_7`, write a `Makefile` that uses variables for `CC` and `CFLAGS` and uses wildcards to build all `.c` files into corresponding executables.\n"
   ]
  },
  {
   "cell_type": "code",
   "execution_count": null,
   "id": "1a677ed9",
   "metadata": {},
   "outputs": [],
   "source": [
    "%%bash"
   ]
  },
  {
   "cell_type": "markdown",
   "id": "dc879b4b",
   "metadata": {},
   "source": [
    "### Problem H\n",
    "In `class_task_8`, write a `Makefile` to build the `Graph-Executor` project into `test` using variables, wildcards, object rules, and the same C++ flags as Problem E."
   ]
  },
  {
   "cell_type": "code",
   "execution_count": null,
   "id": "99ea95aa",
   "metadata": {},
   "outputs": [],
   "source": [
    "%%bash"
   ]
  }
 ],
 "metadata": {
  "language_info": {
   "name": "python"
  }
 },
 "nbformat": 4,
 "nbformat_minor": 5
}
