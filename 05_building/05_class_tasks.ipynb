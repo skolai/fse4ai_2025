{
 "cells": [
  {
   "cell_type": "markdown",
   "id": "7cc62b3c",
   "metadata": {},
   "source": [
    "# Class Task 05 — Exercises\n",
    "\n",
    "\n",
    "## Setup steps\n",
    "1. Open a terminal.\n",
    "2. Change to a working directory where you'll keep the assignments.\n",
    "3. Clone the course repository `https://github.com/Muxas/fse4ai_2025`.\n",
    "4. Enter the `fse4ai_2024` directory.\n",
    "5. Start the testing environment:\n",
    "   ```bash\n",
    "   docker compose run fse4ai_05\n",
    "   ```\n",
    "\n",
    "## Tasks (class versions)\n",
    "\n",
    "\n"
   ]
  },
  {
   "cell_type": "markdown",
   "id": "9b438c65",
   "metadata": {},
   "source": [
    "### Problem A: Compiling a Simple C Program\n",
    "This task covers basic compilation using gcc.\n",
    "\n",
    "Step 1: Create the directory for this task.\n",
    "Write a shell script in the cell below to compile star_pattern.c into an executable named star and then run it."
   ]
  },
  {
   "cell_type": "code",
   "execution_count": null,
   "id": "7140ae25",
   "metadata": {},
   "outputs": [],
   "source": [
    "%%bash"
   ]
  },
  {
   "cell_type": "markdown",
   "id": "07a3d467",
   "metadata": {},
   "source": [
    "### Problem B\n",
    "Compiling C++ with a Library (Boost)\n",
    "This task replaces the complex voronoi example. It tests your ability to link an external library (boost_thread) that we know is installed in our container."
   ]
  },
  {
   "cell_type": "code",
   "execution_count": null,
   "id": "fcb5819a",
   "metadata": {},
   "outputs": [],
   "source": [
    "%%bash"
   ]
  },
  {
   "cell_type": "markdown",
   "id": "d6e8ba1b",
   "metadata": {},
   "source": [
    "### Problem C\n",
    " Building a Multi-File Project with a Makefile\n",
    "This task replaces the Graph-Executor project. It demonstrates how to compile multiple source files into object files and then link them together into a final executable using a Makefile."
   ]
  },
  {
   "cell_type": "code",
   "execution_count": null,
   "id": "c132b8e3",
   "metadata": {},
   "outputs": [],
   "source": [
    "%%bash"
   ]
  },
  {
   "cell_type": "markdown",
   "id": "a0a97803",
   "metadata": {},
   "source": [
    "### Problem D\n",
    "This task introduces CMake, a modern and powerful alternative to writing Makefiles by hand. We will build the same project from Problem C."
   ]
  },
  {
   "cell_type": "code",
   "execution_count": null,
   "id": "7beffda9",
   "metadata": {},
   "outputs": [],
   "source": [
    "%%bash"
   ]
  },
  {
   "cell_type": "markdown",
   "id": "3303cd62",
   "metadata": {},
   "source": [
    "\n",
    "### Problem E\n",
    "Creating and Using a Shared Library\n",
    "This task demonstrates how to create a dynamic (or shared) library (.so file) and link an application against it. This is a fundamental concept in software engineering.\n"
   ]
  },
  {
   "cell_type": "code",
   "execution_count": null,
   "id": "fded4bdd",
   "metadata": {},
   "outputs": [],
   "source": [
    "%%bash"
   ]
  }
 ],
 "metadata": {
  "kernelspec": {
   "display_name": "Python 3",
   "language": "python",
   "name": "python3"
  },
  "language_info": {
   "codemirror_mode": {
    "name": "ipython",
    "version": 3
   },
   "file_extension": ".py",
   "mimetype": "text/x-python",
   "name": "python",
   "nbconvert_exporter": "python",
   "pygments_lexer": "ipython3",
   "version": "3.9.6"
  }
 },
 "nbformat": 4,
 "nbformat_minor": 5
}
