{
 "cells": [
  {
   "cell_type": "markdown",
   "id": "4e52e4d6",
   "metadata": {},
   "source": [
    "# Unix Class Tasks\n",
    "\n"
   ]
  },
  {
   "cell_type": "markdown",
   "id": "3123dc45",
   "metadata": {},
   "source": [
    "### 1) Install a package, run it, then remove it\n",
    "Using the system package manager, install **cowsay**, run `cowsay hello linux`, then remove **cowsay**."
   ]
  },
  {
   "cell_type": "code",
   "execution_count": null,
   "id": "be450625",
   "metadata": {},
   "outputs": [],
   "source": [
    "%%bash"
   ]
  },
  {
   "cell_type": "markdown",
   "id": "7b7532d0",
   "metadata": {},
   "source": [
    "### 2) Create a batch of files and delete a subset (without rm)\n",
    "Create 12 files named `note1`..`note12` with one command. Then, search the tree for `note7`, `note8`, and `note9` and delete them **without** using `rm`."
   ]
  },
  {
   "cell_type": "code",
   "execution_count": null,
   "id": "5ea32fc6",
   "metadata": {},
   "outputs": [],
   "source": [
    "%%bash"
   ]
  },
  {
   "cell_type": "markdown",
   "id": "30077f47",
   "metadata": {},
   "source": [
    "### 3) List directory contents with details into a file\n",
    "List current directory contents (ownership & permissions) and redirect to `details.txt`."
   ]
  },
  {
   "cell_type": "code",
   "execution_count": null,
   "id": "4af8fa44",
   "metadata": {},
   "outputs": [],
   "source": [
    "%%bash"
   ]
  },
  {
   "cell_type": "markdown",
   "id": "7886dcd7",
   "metadata": {},
   "source": [
    "### 4) Count files whose name contains a token\n",
    "In the current directory and its subdirectories, count how many files have `note` in the name."
   ]
  },
  {
   "cell_type": "code",
   "execution_count": null,
   "id": "62f62dd8",
   "metadata": {},
   "outputs": [],
   "source": [
    "%%bash"
   ]
  },
  {
   "cell_type": "markdown",
   "id": "eebe5d68",
   "metadata": {},
   "source": [
    "### 5) Sort a system file with error redirection\n",
    "Sort `/etc/group` and write output to `groups_sorted.txt`, redirecting any errors to `groups_err.txt`."
   ]
  },
  {
   "cell_type": "code",
   "execution_count": null,
   "id": "76a0573c",
   "metadata": {},
   "outputs": [],
   "source": [
    "%%bash"
   ]
  },
  {
   "cell_type": "markdown",
   "id": "08693a54",
   "metadata": {},
   "source": [
    "### 6) Create a shared group-writeable dropbox\n",
    "Create directory `SharedBox` so that files created there are owned by group `users`, are group-writeable, and only the creator can delete their own files."
   ]
  },
  {
   "cell_type": "code",
   "execution_count": null,
   "id": "b102cd07",
   "metadata": {},
   "outputs": [],
   "source": [
    "%%bash"
   ]
  },
  {
   "cell_type": "markdown",
   "id": "b1021965",
   "metadata": {},
   "source": [
    "### 7) Count `.log` files at any depth\n",
    "In the current directory and its subdirectories, count the number of `*.log` files."
   ]
  },
  {
   "cell_type": "code",
   "execution_count": null,
   "id": "61959697",
   "metadata": {},
   "outputs": [],
   "source": [
    "%%bash"
   ]
  },
  {
   "cell_type": "markdown",
   "id": "180d73a9",
   "metadata": {},
   "source": [
    "### 8) Count `.log` files only at depth 1\n",
    "In the current directory only (max depth 1), count the number of `*.log` files."
   ]
  },
  {
   "cell_type": "code",
   "execution_count": null,
   "id": "97c0ba05",
   "metadata": {},
   "outputs": [],
   "source": [
    "%%bash"
   ]
  },
  {
   "cell_type": "markdown",
   "id": "26458887",
   "metadata": {},
   "source": [
    "### 9) Count files by prefix at any depth\n",
    "In the current directory tree, count files whose names start with `A100` (e.g., `A100report.txt`)."
   ]
  },
  {
   "cell_type": "code",
   "execution_count": null,
   "id": "56a6b34d",
   "metadata": {},
   "outputs": [],
   "source": [
    "%%bash"
   ]
  },
  {
   "cell_type": "markdown",
   "id": "6582f60b",
   "metadata": {},
   "source": [
    "### 10) Print line counts for all `.txt` files\n",
    "In current directory and subdirectories, print the number of lines for each `*.txt` file."
   ]
  },
  {
   "cell_type": "code",
   "execution_count": null,
   "id": "248ade9b",
   "metadata": {},
   "outputs": [],
   "source": [
    "%%bash"
   ]
  },
  {
   "cell_type": "markdown",
   "id": "4e72ef58",
   "metadata": {},
   "source": [
    "### 11) Disk usage for top-level directories\n",
    "Show sizes of each directory under `/` and sort by size (largest first)."
   ]
  },
  {
   "cell_type": "code",
   "execution_count": null,
   "id": "87fc77d4",
   "metadata": {},
   "outputs": [],
   "source": [
    "%%bash"
   ]
  },
  {
   "cell_type": "markdown",
   "id": "1eaa8841",
   "metadata": {},
   "source": [
    "### 12) Largest directory under `/` excluding `/proc` and `/run`\n",
    "Calculate sizes of all directories directly under `/`, excluding `/proc` and `/run`, and print the largest."
   ]
  },
  {
   "cell_type": "code",
   "execution_count": null,
   "id": "650fe37c",
   "metadata": {},
   "outputs": [],
   "source": [
    "%%bash"
   ]
  },
  {
   "cell_type": "markdown",
   "id": "769fcd9d",
   "metadata": {},
   "source": [
    "### 13) All non-zero directories under `/` excluding `/proc` and `/run`\n",
    "Show sizes of all directories directly under `/`, excluding `/proc` and `/run`, filter out zero-sized, and print all."
   ]
  },
  {
   "cell_type": "code",
   "execution_count": null,
   "id": "65befc51",
   "metadata": {},
   "outputs": [],
   "source": [
    "%%bash"
   ]
  },
  {
   "cell_type": "markdown",
   "id": "a70aaffb",
   "metadata": {},
   "source": [
    "### 14) Count executable files at depth 1\n",
    "In the current directory only, count files that are regular and executable by the owner."
   ]
  },
  {
   "cell_type": "code",
   "execution_count": null,
   "id": "33d634cb",
   "metadata": {},
   "outputs": [],
   "source": [
    "%%bash"
   ]
  }
 ],
 "metadata": {
  "language_info": {
   "name": "python"
  }
 },
 "nbformat": 4,
 "nbformat_minor": 5
}
