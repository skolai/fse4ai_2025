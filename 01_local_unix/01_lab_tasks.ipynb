{
  "cells": [
    {
      "cell_type": "markdown",
      "metadata": {},
      "source": [
        "# Unix on Local Machine — Lab 01\n",
        "\n"
      ]
    },
    {
      "cell_type": "markdown",
      "metadata": {},
      "source": [
        "## 1) Install, run, and remove figlet\n",
        "\n",
        "Using system package manager, install package figlet, run the command to print 'hello ubuntu', then remove figlet.\n"
      ]
    },
    {
      "cell_type": "code",
      "execution_count": null,
      "id": "b3499527",
      "metadata": {},
      "outputs": [],
      "source": [
        "%%bash"
      ]
    },
    {
      "cell_type": "markdown",
      "metadata": {},
      "source": [
        "## 2) Create and selectively delete files without rm\n",
        "\n",
        "Create 10 files named file1..file10 in one command. Then search for file4, file5, file6 within the tree and delete them (do NOT use rm).\n"
      ]
    },
    {
      "cell_type": "code",
      "execution_count": null,
      "id": "5c1f30e0",
      "metadata": {},
      "outputs": [],
      "source": [
        "%%bash"
      ]
    },
    {
      "cell_type": "markdown",
      "metadata": {},
      "source": [
        "## 3) List directory contents with details to a file\n",
        "\n",
        "List the contents of your current directory, including ownership and permissions, and redirect the output to contents.txt.\n"
      ]
    },
    {
      "cell_type": "code",
      "execution_count": null,
      "id": "c3e84fb2",
      "metadata": {},
      "outputs": [],
      "source": [
        "%%bash"
      ]
    },
    {
      "cell_type": "markdown",
      "metadata": {},
      "source": [
        "## 4) Count files with 'file' in the name\n",
        "\n",
        "In the current directory and subdirectories, count how many files have 'file' in their filename.\n"
      ]
    },
    {
      "cell_type": "code",
      "execution_count": null,
      "id": "174f2ec0",
      "metadata": {},
      "outputs": [],
      "source": [
        "%%bash"
      ]
    },
    {
      "cell_type": "markdown",
      "metadata": {},
      "source": [
        "## 5) Sort /etc/passwd with stderr redirected\n",
        "\n",
        "Sort /etc/passwd, write results to foo.txt, and redirect any errors to err.txt.\n"
      ]
    },
    {
      "cell_type": "code",
      "execution_count": null,
      "id": "edd18bd7",
      "metadata": {},
      "outputs": [],
      "source": [
        "%%bash"
      ]
    },
    {
      "cell_type": "markdown",
      "metadata": {},
      "source": [
        "## 6) Create a shared Box directory with sticky bits\n",
        "\n",
        "Create a directory Box where all files are group-owned by 'users' and can only be deleted by their creator.\n"
      ]
    },
    {
      "cell_type": "code",
      "execution_count": null,
      "id": "5cf73a6e",
      "metadata": {},
      "outputs": [],
      "source": [
        "%%bash"
      ]
    },
    {
      "cell_type": "markdown",
      "metadata": {},
      "source": [
        "## 7) Count *.txt files recursively\n",
        "\n",
        "In the current directory and its subdirectories, count the number of *.txt files.\n"
      ]
    },
    {
      "cell_type": "code",
      "execution_count": null,
      "id": "9cc16088",
      "metadata": {},
      "outputs": [],
      "source": [
        "%%bash"
      ]
    },
    {
      "cell_type": "markdown",
      "metadata": {},
      "source": [
        "## 8) Count *.txt files at depth 1\n",
        "\n",
        "In the current directory only (max depth 1), count the number of *.txt files.\n"
      ]
    },
    {
      "cell_type": "code",
      "execution_count": null,
      "id": "aa0401b8",
      "metadata": {},
      "outputs": [],
      "source": [
        "%%bash"
      ]
    },
    {
      "cell_type": "markdown",
      "metadata": {},
      "source": [
        "## 9) Count files with prefix '00221'\n",
        "\n",
        "In the current directory at any depth, count files whose names start with '00221'.\n"
      ]
    },
    {
      "cell_type": "code",
      "execution_count": null,
      "id": "fa43636a",
      "metadata": {},
      "outputs": [],
      "source": [
        "%%bash"
      ]
    },
    {
      "cell_type": "markdown",
      "metadata": {},
      "source": [
        "## 10) Show line counts for each *.txt file\n",
        "\n",
        "In the current directory and subdirectories, print the number of lines for each *.txt file.\n"
      ]
    },
    {
      "cell_type": "code",
      "execution_count": null,
      "id": "28551770",
      "metadata": {},
      "outputs": [],
      "source": [
        "%%bash"
      ]
    },
    {
      "cell_type": "markdown",
      "metadata": {},
      "source": [
        "## 11) Disk usage of subdirs in / sorted by size\n",
        "\n",
        "Calculate the size of each subdirectory in the root (/) directory and sort them by size (largest first).\n"
      ]
    },
    {
      "cell_type": "code",
      "execution_count": null,
      "id": "bcfc6380",
      "metadata": {},
      "outputs": [],
      "source": [
        "%%bash"
      ]
    },
    {
      "cell_type": "markdown",
      "metadata": {},
      "source": [
        "## 12) Largest top-level dir excluding /sys and /proc\n",
        "\n",
        "Calculate the size of all top-level directories in / excluding /sys and /proc, then print only the largest one.\n"
      ]
    },
    {
      "cell_type": "code",
      "execution_count": null,
      "id": "3aa4e294",
      "metadata": {},
      "outputs": [],
      "source": [
        "%%bash"
      ]
    },
    {
      "cell_type": "markdown",
      "metadata": {},
      "source": [
        "## 13) Sizes of top-level dirs (exclude /sys, /proc, and zero-sized)\n",
        "\n",
        "Calculate sizes of all top-level directories in / excluding /sys and /proc, filter out zero-sized entries, and print all results sorted.\n"
      ]
    },
    {
      "cell_type": "code",
      "execution_count": null,
      "id": "3f357046",
      "metadata": {},
      "outputs": [],
      "source": [
        "%%bash"
      ]
    }
  ],
  "metadata": {
    "kernelspec": {
      "display_name": "Python 3",
      "language": "python",
      "name": "python3"
    },
    "language_info": {
      "name": "python",
      "version": "3.x"
    }
  },
  "nbformat": 4,
  "nbformat_minor": 5
}
